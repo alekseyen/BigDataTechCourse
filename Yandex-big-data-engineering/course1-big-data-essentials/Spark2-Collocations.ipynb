{
 "cells": [
  {
   "cell_type": "markdown",
   "metadata": {},
   "source": [
    "# Spark assignment 2: Collocations"
   ]
  },
  {
   "cell_type": "markdown",
   "metadata": {},
   "source": [
    "As for the second part of the assignment, your task is to extract collocations: that is word combinations that occur together. For example, “high school” or “roman empire”.\n",
    "\n",
    "To find collocations, you will use NPMI (normalized pointwise mutual information) metric.\n",
    "\n",
    "PMI of two words, a & b, is defined as “PMI(a, b) = ln (P(ab) / (P(a) * P(b))”, where P(ab) is the probability of two words coming one after the other, and P(a) and P(b) are probabilities of words a & b respectively.\n",
    "\n",
    "You will estimate probabilities with occurrence counts, that is “P(a) = # of occurrences of word a / total number of words”, and “P(ab) = # of occurrences of words ‘a b’ / total number of word pairs”.\n",
    "\n",
    "To build an intuition behind the definition, see Reading material.\n",
    "\n",
    "Therefore, rare combinations of coupled words have large PMI.\n",
    "\n",
    "NPMI is computed as “NPMI(a, b) = PMI(a, b) / -ln P(ab)”. This normalizes the quantity to be within the range [-1; 1].\n",
    "\n",
    "You task is a bit more complicated now:\n",
    "\n",
    "Extract all the words, as in the previous task.\n",
    "Filter out stopwords using the dictionary (/datasets/stop_words_en.txt ) (do not forget to convert words to the lowercase!)\n",
    "Compute all bigrams (that is, pairs of consequent words)\n",
    "Leave only bigrams with at least 500 occurrences\n",
    "Compute NPMI for every bigram (note: when computing probabilities, you need unpruned counts!)\n",
    "Sort word pairs by NPMI in the descending order\n",
    "Print top 39 word pairs, with words delimited by the underscore “_”\n",
    "For example,\n",
    "\n",
    "roman_empire\n",
    "south_africa\n",
    "\n",
    "The part of the result on the sample dataset:\n",
    "\n",
    "...\n",
    "references_reading\n",
    "notes_references\n",
    "award_best\n",
    "north_america\n",
    "new_zealand\n",
    "...\n",
    "\n",
    "Hint: if you did everything right, “roman_empire” and “south_africa” are going to be in the result.\n",
    "\n",
    "If you want to deploy the environment on your own machine, please use bigdatateam/spark-course1 Docker container."
   ]
  },
  {
   "cell_type": "code",
   "execution_count": 1,
   "metadata": {},
   "outputs": [],
   "source": [
    "#! /usr/bin/env python\n",
    "\n",
    "from pyspark import SparkConf, SparkContext\n",
    "import re\n",
    "import math"
   ]
  },
  {
   "cell_type": "code",
   "execution_count": 2,
   "metadata": {},
   "outputs": [],
   "source": [
    "try:\n",
    "    sc = SparkContext(conf=SparkConf().setAppName(\"MyApp\").setMaster(\"local\").set(\"spark.cores.max\", \"16\"))\n",
    "except:\n",
    "    pass"
   ]
  },
  {
   "cell_type": "code",
   "execution_count": 3,
   "metadata": {},
   "outputs": [],
   "source": [
    "def read_stopwords(file_path): # Read in stop words file\n",
    "    return set(word.strip().lower() for word in open(file_path))"
   ]
  },
  {
   "cell_type": "code",
   "execution_count": 4,
   "metadata": {},
   "outputs": [],
   "source": [
    "stop_file = \"/datasets/stop_words_en.txt\" # coursera version\n",
    "wiki_file = \"/data/wiki/en_articles_part/articles-part\" # coursera version\n",
    "\n",
    "#stop_file = \"/mnt/data/stop_words_en.txt\" # local version\n",
    "#wiki_file = \"/mnt/data/articles-part\" # local version\n",
    "pair_thresh = 500\n",
    "\n",
    "def parse_article(line):\n",
    "    try:\n",
    "        article_id, text = line.rstrip().split('\\t', 1)\n",
    "        text = re.sub(\"^\\W+|\\W+$\", \"\", text, flags=re.UNICODE)\n",
    "        words = re.split(\"\\W*\\s+\\W*\", text, flags=re.UNICODE)       \n",
    "        return words\n",
    "    except ValueError as e:\n",
    "        return []\n",
    "    \n",
    "with open(stop_file, \"r\") as f:\n",
    "    stop_words = f.read().splitlines()\n",
    "    \n",
    "stopwords_broadcast = sc.broadcast(stop_words)\n",
    "\n",
    "def filter_stop(words):\n",
    "    return [word for word in words if (word.lower() not in stopwords_broadcast.value)]\n",
    "    \n",
    "def lower(words):\n",
    "    return [word.lower() for word in words]"
   ]
  },
  {
   "cell_type": "code",
   "execution_count": 5,
   "metadata": {},
   "outputs": [],
   "source": [
    "def pairs(words):\n",
    "    out = []\n",
    "    for w1, w2 in zip(words, words[1:]):\n",
    "        out.append((w1.lower() + \"_\" + w2.lower(), 1))\n",
    "    return out"
   ]
  },
  {
   "cell_type": "code",
   "execution_count": 6,
   "metadata": {},
   "outputs": [],
   "source": [
    "wiki = (sc.textFile(wiki_file, 16)\n",
    "        .map(parse_article)\n",
    "        .map(filter_stop)\n",
    "        .map(lower)\n",
    "       ).cache()"
   ]
  },
  {
   "cell_type": "code",
   "execution_count": 7,
   "metadata": {},
   "outputs": [],
   "source": [
    "words = (wiki.flatMap(lambda words: [(word, 1) for word in words]).reduceByKey(lambda x,y: x+y)).cache()\n",
    "words_total = words.map(lambda value: value[1]).sum()\n",
    "words_total = sc.broadcast(words_total)"
   ]
  },
  {
   "cell_type": "code",
   "execution_count": 8,
   "metadata": {},
   "outputs": [],
   "source": [
    "word_pairs = (wiki.flatMap(pairs).reduceByKey(lambda x,y: x+y)).cache()\n",
    "pairs_total = word_pairs.map(lambda value: value[1]).sum()\n",
    "pairs_total = sc.broadcast(pairs_total)"
   ]
  },
  {
   "cell_type": "code",
   "execution_count": 9,
   "metadata": {},
   "outputs": [],
   "source": [
    "words_count_map = words.collectAsMap()\n",
    "words_count_map = sc.broadcast(words_count_map)"
   ]
  },
  {
   "cell_type": "code",
   "execution_count": 11,
   "metadata": {},
   "outputs": [],
   "source": [
    "def npmi(value):\n",
    "    pair, count = value\n",
    "    w1, w2 = pair.split(\"_\")\n",
    "    w1_count = words_count_map.value[w1]\n",
    "    w2_count = words_count_map.value[w2]\n",
    "    \n",
    "    pair_prob = float(count) / pairs_total.value\n",
    "    w1_prob = float(w1_count) / words_total.value\n",
    "    w2_prob = float(w2_count) / words_total.value\n",
    "    \n",
    "    pmi = math.log(pair_prob / (w1_prob * w2_prob))\n",
    "    npmi = pmi / (-1 * math.log(pair_prob))\n",
    "    return (pair, npmi)"
   ]
  },
  {
   "cell_type": "code",
   "execution_count": 12,
   "metadata": {},
   "outputs": [],
   "source": [
    "npmi = (word_pairs\n",
    "        .filter(lambda value: value[1] > pair_thresh)\n",
    "        .map(lambda value: npmi(value))\n",
    "        .sortBy(lambda value: value[1], ascending=False)\n",
    "       ).cache()"
   ]
  },
  {
   "cell_type": "code",
   "execution_count": 13,
   "metadata": {},
   "outputs": [
    {
     "name": "stdout",
     "output_type": "stream",
     "text": [
      "los_angeles 0.9728998015144634\n",
      "external_links 0.949690234441423\n",
      "united_states 0.8833319371051045\n",
      "prime_minister 0.8827431262049907\n",
      "san_francisco 0.8522919541303453\n",
      "et_al 0.8025243465157926\n",
      "new_york 0.7870689136516178\n",
      "supreme_court 0.7781368144102505\n",
      "19th_century 0.7574641862586649\n",
      "20th_century 0.751460473748708\n",
      "references_external 0.7318269632728455\n",
      "soviet_union 0.7278064337810742\n",
      "air_force 0.7057732284123788\n",
      "baseball_player 0.6917111626352064\n",
      "university_press 0.6874245583071967\n",
      "roman_catholic 0.6836777179540484\n",
      "united_kingdom 0.6833646421485475\n",
      "references_reading 0.6704634730189424\n",
      "notes_references 0.6623632179005733\n",
      "award_best 0.6581113468922128\n",
      "north_america 0.652460117823392\n",
      "new_zealand 0.6473526101706836\n",
      "civil_war 0.6406165949559051\n",
      "catholic_church 0.6259735154000262\n",
      "world_war 0.624021393901398\n",
      "war_ii 0.6195378356965802\n",
      "south_africa 0.6188050625179361\n",
      "took_place 0.6123195539618992\n",
      "roman_empire 0.6093863488567927\n",
      "united_nations 0.6061720044648012\n",
      "american_singer-songwriter 0.5655236586266105\n",
      "high_school 0.5641151270187698\n",
      "american_actor 0.5597109346824923\n",
      "american_actress 0.5400633050297051\n",
      "american_baseball 0.5122306029074475\n",
      "york_city 0.48986053506008465\n",
      "american_football 0.481099326867614\n",
      "years_later 0.41523747034747227\n",
      "north_american 0.3776562942570483\n"
     ]
    }
   ],
   "source": [
    "for pair, value in npmi.take(39):\n",
    "    print(pair)"
   ]
  }
 ],
 "metadata": {
  "kernelspec": {
   "display_name": "Python 3",
   "language": "python",
   "name": "python3"
  },
  "language_info": {
   "codemirror_mode": {
    "name": "ipython",
    "version": 3
   },
   "file_extension": ".py",
   "mimetype": "text/x-python",
   "name": "python",
   "nbconvert_exporter": "python",
   "pygments_lexer": "ipython3",
   "version": "3.6.6"
  }
 },
 "nbformat": 4,
 "nbformat_minor": 2
}
