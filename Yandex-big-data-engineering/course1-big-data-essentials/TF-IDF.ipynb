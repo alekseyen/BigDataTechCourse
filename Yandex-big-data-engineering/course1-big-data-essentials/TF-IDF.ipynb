{
 "cells": [
  {
   "cell_type": "markdown",
   "metadata": {
    "colab_type": "text",
    "id": "Xsd0oermS80K"
   },
   "source": [
    "# Real-World Applications: TF-IDF"
   ]
  },
  {
   "cell_type": "markdown",
   "metadata": {},
   "source": [
    "In this task Hadoop Streaming is used to process Wikipedia articles dump (/data/wiki/en_articles_part).\n",
    "\n",
    "The purpose of this task is to calculate tf*idf for each pair (word, article) from the Wikipedia dump. Apply the stop words filter to speed up calculations. Term frequency (tf) is a function depending on a term (word) and a document (article):\n",
    "\n",
    "tf(term, doc_id) = Nt/N,\n",
    "\n",
    "where Nt - quantity of particular term in the document, N - the total number of terms in the document (without stop words)\n",
    "\n",
    "Inverse document frequency (idf) is a function depends on a term:\n",
    "\n",
    "idf(term) = 1/log(1 + Dt),\n",
    "\n",
    "where Dt - number of documents in the dataset with the particular term.\n",
    "\n",
    "You can find more information here: https://en.wikipedia.xn--org/wiki/Tfidf-q82h but use just the formulas mentioned above.\n",
    "\n",
    "Dataset location: /data/wiki/en_articles_part\n",
    "\n",
    "Stop words list is in ‘/datasets/stop_words_en.txt’ file.\n",
    "\n",
    "Format: article_id <tab> article_text\n",
    "\n",
    "To parse the articles don’t forget about Unicode (even though this is an English Wikipedia dump, there are many characters from other languages), remove punctuation marks and transform words to lowercase to get the correct quantities. To cope with Unicode we recommend to use the following tokenizer:\n",
    "\n",
    "Output: tf*idf for term=’labor’ and article_id=12\n",
    "\n",
    "The result on the sample dataset: 0.000351\n",
    "\n",
    "Hint: all Wikipedia article_ids are greater than 0. So you can use a dummy article_id=0 to calculate the number of documents with each term.\n",
    "\n",
    "If you want to deploy the environment on your own machine, please use bigdatateam/yarn-notebook Docker container."
   ]
  },
  {
   "cell_type": "code",
   "execution_count": 10,
   "metadata": {
    "colab": {
     "autoexec": {
      "startup": false,
      "wait_interval": 0
     }
    },
    "colab_type": "code",
    "id": "KU56zkC0S80M"
   },
   "outputs": [
    {
     "name": "stdout",
     "output_type": "stream",
     "text": [
      "Overwriting mapper.py\n"
     ]
    }
   ],
   "source": [
    "%%writefile mapper.py\n",
    "\n",
    "from __future__ import division\n",
    "import sys\n",
    "import re\n",
    "from collections import Counter\n",
    "\n",
    "from imp import reload\n",
    "if sys.version[0] == '2':\n",
    "    reload(sys)\n",
    "    sys.setdefaultencoding(\"utf-8\") # required to convert to unicode\n",
    "\n",
    "def read_stopwords(file_path): #Read in stop words file\n",
    "    return set(word.strip().lower() for word in open(file_path))\n",
    "\n",
    "#read in stop words\n",
    "stopwords = read_stopwords(\"stop_words_en.txt\")\n",
    "\n",
    "for line in sys.stdin:\n",
    "    try:\n",
    "        article_id, text = unicode(line.strip()).split('\\t', 1)\n",
    "\n",
    "        text = re.sub(\"^\\W+|\\W+$\", \"\", text, flags=re.UNICODE)\n",
    "        words = re.split(\"\\W*\\s+\\W*\", text, flags=re.UNICODE)\n",
    "        words = [word.lower() for word in words if (word.lower() not in stopwords)]\n",
    "\n",
    "        words_counter = Counter(words)\n",
    "        words_total = sum(words_counter.values()) # (N) total number of terms in the document (without stop words)\n",
    "\n",
    "        for word, count in words_counter.items(): #does this need to be sorted?\n",
    "            #term, article, tf(term, doc_id) = Nt/N,           \n",
    "            tf = float(count)/float(words_total) # count = (NT) quantity of particular term in the document\n",
    "            print (\"%s\\t%s\\t%s\" % (word, article_id, tf))\n",
    "        \n",
    "    except Exception as e:\n",
    "        print(\"Error in mapper.py\", e)\n",
    "        continue"
   ]
  },
  {
   "cell_type": "markdown",
   "metadata": {
    "colab_type": "text",
    "id": "-3EM-tBES80O"
   },
   "source": [
    "## Step 2. Create the reducer."
   ]
  },
  {
   "cell_type": "code",
   "execution_count": 11,
   "metadata": {
    "colab": {
     "autoexec": {
      "startup": false,
      "wait_interval": 0
     }
    },
    "colab_type": "code",
    "id": "yslvpwpfS80P",
    "scrolled": true
   },
   "outputs": [
    {
     "name": "stdout",
     "output_type": "stream",
     "text": [
      "Overwriting reducer.py\n"
     ]
    }
   ],
   "source": [
    "%%writefile reducer.py\n",
    "\n",
    "from __future__ import division\n",
    "import sys\n",
    "from math import log\n",
    "from imp import reload\n",
    "if sys.version[0] == '2':\n",
    "    reload(sys)\n",
    "    sys.setdefaultencoding(\"utf-8\") # required to convert to unicode\n",
    "\n",
    "articles_dict = dict()\n",
    "current_key = None\n",
    "\n",
    "for line in sys.stdin:\n",
    "    try:\n",
    "        key, article_id, tf = line.strip().split('\\t', 2)\n",
    "        tf = float(tf)\n",
    "\n",
    "        if current_key != key:\n",
    "            if current_key:\n",
    "                idf = (float(1)/log(1 + len(articles_dict.values())))\n",
    "                for key_article_id, tf in articles_dict.items():\n",
    "                    tf_idf = tf * idf\n",
    "                    print (\"%s\\t%s\\t%f\" % (current_key, key_article_id, tf_idf))\n",
    "\n",
    "            current_key = key\n",
    "            articles_dict = dict()\n",
    "\n",
    "        articles_dict[article_id] = float(tf)\n",
    "    \n",
    "    except Exception as e:\n",
    "        print(\"Error in reducer.py\", e)\n",
    "        continue\n",
    "    \n",
    "if current_key:\n",
    "    idf = (float(1)/log(1 + len(articles_dict.values())))\n",
    "    for key_article_id, tf in articles_dict.items():\n",
    "        tf_idf = tf * idf\n",
    "        print (\"%s\\t%s\\t%f\" % (current_key, key_article_id, tf_idf))"
   ]
  },
  {
   "cell_type": "code",
   "execution_count": 12,
   "metadata": {
    "colab": {
     "autoexec": {
      "startup": false,
      "wait_interval": 0
     }
    },
    "colab_type": "code",
    "id": "bG3omEqzS80S",
    "scrolled": false
   },
   "outputs": [
    {
     "name": "stderr",
     "output_type": "stream",
     "text": [
      "rm: `tf_idf1545975923428444': No such file or directory\n",
      "18/12/28 05:45:25 INFO client.RMProxy: Connecting to ResourceManager at /0.0.0.0:8032\n",
      "18/12/28 05:45:26 INFO client.RMProxy: Connecting to ResourceManager at /0.0.0.0:8032\n",
      "18/12/28 05:45:26 INFO mapred.FileInputFormat: Total input files to process : 1\n",
      "18/12/28 05:45:26 INFO mapreduce.JobSubmitter: number of splits:2\n",
      "18/12/28 05:45:26 INFO mapreduce.JobSubmitter: Submitting tokens for job: job_1545955689172_0043\n",
      "18/12/28 05:45:27 INFO impl.YarnClientImpl: Submitted application application_1545955689172_0043\n",
      "18/12/28 05:45:27 INFO mapreduce.Job: The url to track the job: http://3bfb327c519e:8088/proxy/application_1545955689172_0043/\n",
      "18/12/28 05:45:27 INFO mapreduce.Job: Running job: job_1545955689172_0043\n",
      "18/12/28 05:45:32 INFO mapreduce.Job: Job job_1545955689172_0043 running in uber mode : false\n",
      "18/12/28 05:45:32 INFO mapreduce.Job:  map 0% reduce 0%\n",
      "18/12/28 05:45:46 INFO mapreduce.Job:  map 50% reduce 0%\n",
      "18/12/28 05:45:47 INFO mapreduce.Job:  map 100% reduce 0%\n",
      "18/12/28 05:45:52 INFO mapreduce.Job:  map 100% reduce 13%\n",
      "18/12/28 05:45:53 INFO mapreduce.Job:  map 100% reduce 25%\n",
      "18/12/28 05:45:54 INFO mapreduce.Job:  map 100% reduce 38%\n",
      "18/12/28 05:45:55 INFO mapreduce.Job:  map 100% reduce 50%\n",
      "18/12/28 05:45:56 INFO mapreduce.Job:  map 100% reduce 75%\n",
      "18/12/28 05:45:57 INFO mapreduce.Job:  map 100% reduce 100%\n",
      "18/12/28 05:45:58 INFO mapreduce.Job: Job job_1545955689172_0043 completed successfully\n",
      "18/12/28 05:45:58 INFO mapreduce.Job: Counters: 50\n",
      "\tFile System Counters\n",
      "\t\tFILE: Number of bytes read=113309389\n",
      "\t\tFILE: Number of bytes written=228016792\n",
      "\t\tFILE: Number of read operations=0\n",
      "\t\tFILE: Number of large read operations=0\n",
      "\t\tFILE: Number of write operations=0\n",
      "\t\tHDFS: Number of bytes read=76874501\n",
      "\t\tHDFS: Number of bytes written=76752215\n",
      "\t\tHDFS: Number of read operations=30\n",
      "\t\tHDFS: Number of large read operations=0\n",
      "\t\tHDFS: Number of write operations=16\n",
      "\tJob Counters \n",
      "\t\tKilled reduce tasks=1\n",
      "\t\tLaunched map tasks=2\n",
      "\t\tLaunched reduce tasks=8\n",
      "\t\tData-local map tasks=2\n",
      "\t\tTotal time spent by all maps in occupied slots (ms)=24475\n",
      "\t\tTotal time spent by all reduces in occupied slots (ms)=25073\n",
      "\t\tTotal time spent by all map tasks (ms)=24475\n",
      "\t\tTotal time spent by all reduce tasks (ms)=25073\n",
      "\t\tTotal vcore-milliseconds taken by all map tasks=24475\n",
      "\t\tTotal vcore-milliseconds taken by all reduce tasks=25073\n",
      "\t\tTotal megabyte-milliseconds taken by all map tasks=25062400\n",
      "\t\tTotal megabyte-milliseconds taken by all reduce tasks=25674752\n",
      "\tMap-Reduce Framework\n",
      "\t\tMap input records=4100\n",
      "\t\tMap output records=3472288\n",
      "\t\tMap output bytes=106364755\n",
      "\t\tMap output materialized bytes=113309437\n",
      "\t\tInput split bytes=228\n",
      "\t\tCombine input records=0\n",
      "\t\tCombine output records=0\n",
      "\t\tReduce input groups=426241\n",
      "\t\tReduce shuffle bytes=113309437\n",
      "\t\tReduce input records=3472288\n",
      "\t\tReduce output records=3472288\n",
      "\t\tSpilled Records=6944576\n",
      "\t\tShuffled Maps =16\n",
      "\t\tFailed Shuffles=0\n",
      "\t\tMerged Map outputs=16\n",
      "\t\tGC time elapsed (ms)=588\n",
      "\t\tCPU time spent (ms)=37780\n",
      "\t\tPhysical memory (bytes) snapshot=2204405760\n",
      "\t\tVirtual memory (bytes) snapshot=20204642304\n",
      "\t\tTotal committed heap usage (bytes)=1555038208\n",
      "\tShuffle Errors\n",
      "\t\tBAD_ID=0\n",
      "\t\tCONNECTION=0\n",
      "\t\tIO_ERROR=0\n",
      "\t\tWRONG_LENGTH=0\n",
      "\t\tWRONG_MAP=0\n",
      "\t\tWRONG_REDUCE=0\n",
      "\tFile Input Format Counters \n",
      "\t\tBytes Read=76874273\n",
      "\tFile Output Format Counters \n",
      "\t\tBytes Written=76752215\n",
      "18/12/28 05:45:58 INFO streaming.StreamJob: Output directory: tf_idf1545975923428444\n",
      "cat: `OUT_DIR_JOB/*': No such file or directory\n"
     ]
    }
   ],
   "source": [
    "%%bash\n",
    "\n",
    "OUT_DIR_JOB=\"tf_idf\"$(date +\"%s%6N\")\n",
    "NUM_REDUCERS=4\n",
    "LOGS=\"stderr_logs.txt\"\n",
    "\n",
    "hdfs dfs -rm -r -skipTrash ${OUT_DIR_JOB} > /dev/null\n",
    "\n",
    "yarn jar /opt/cloudera/parcels/CDH/lib/hadoop-mapreduce/hadoop-streaming.jar \\\n",
    "    -D mapreduce.job.name=\"Streaming TF-IDF Job 1\" \\\n",
    "    -D mapreduce.job.reduces=${NUM_REDUCERS} \\\n",
    "    -files mapper.py,reducer.py,/datasets/stop_words_en.txt \\\n",
    "    -mapper \"python mapper.py\" \\\n",
    "    -reducer \"python reducer.py\" \\\n",
    "    -input /data/wiki/en_articles_part \\\n",
    "    -output ${OUT_DIR_JOB} > /dev/null\n",
    "\n",
    "# Code for obtaining the results\n",
    "hdfs dfs -cat ${OUT_DIR_JOB}/* | grep -P 'labor\\t12\\t' | cut -f3\n",
    "\n",
    "#hdfs dfs -rm -r -skipTrash ${OUT_DIR_JOB} > /dev/null\n"
   ]
  },
  {
   "cell_type": "code",
   "execution_count": null,
   "metadata": {},
   "outputs": [],
   "source": []
  }
 ],
 "metadata": {
  "colab": {
   "collapsed_sections": [],
   "default_view": {},
   "name": "702_to_students.ipynb",
   "provenance": [],
   "version": "0.3.2",
   "views": {}
  },
  "kernelspec": {
   "display_name": "Python 3",
   "language": "python",
   "name": "python3"
  },
  "language_info": {
   "codemirror_mode": {
    "name": "ipython",
    "version": 3
   },
   "file_extension": ".py",
   "mimetype": "text/x-python",
   "name": "python",
   "nbconvert_exporter": "python",
   "pygments_lexer": "ipython3",
   "version": "3.6.6"
  }
 },
 "nbformat": 4,
 "nbformat_minor": 1
}
