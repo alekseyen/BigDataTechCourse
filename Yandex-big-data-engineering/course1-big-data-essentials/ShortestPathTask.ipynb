{
 "cells": [
  {
   "cell_type": "markdown",
   "metadata": {},
   "source": [
    "# Reconstructing the path"
   ]
  },
  {
   "cell_type": "markdown",
   "metadata": {},
   "source": [
    "In this assignment you will use Spark to compute the shortest path between two vertices. In the video, you have learned how to compute the distances between a source vertex and all other vertices in a graph. Now, your task is to reconstruct the shortest path, that is a sequence of vertices connected by the edges.\n",
    "\n",
    "- Dataset location: /data/twitter/twitter_sample_small.txt\n",
    "- Format: user_id \\t follower_id\n",
    "\n",
    "You can start with the code described in \"Starter...\" (see the next self-reading).\n",
    "\n",
    "Your task is to find the shortest path between vertices 12 and 34. In case of multiple shortest paths (that is, disjoint paths with the same length), any will suffice. Output format is the sequence of vertices, delimited by a comma, without spaces. For example, the path “12 -> 42 -> 34” should be printed as:\n",
    "\n",
    "    12,42,34\n",
    "    \n",
    "Hint: before submitting, check your stopping criteria. In BFS, the search was exhaustive, and in this task your program may terminate earlier, thus saving some precious time.\n",
    "\n",
    "The result on the sample dataset:\n",
    "\n",
    "    12,422,53,52,107,20,23,274,34\n",
    "    \n",
    "If you want to deploy the environment on your own machine, please use [bigdatateam/spark-course1](https://hub.docker.com/r/bigdatateam/spark-course1/) Docker container."
   ]
  },
  {
   "cell_type": "code",
   "execution_count": 1,
   "metadata": {},
   "outputs": [],
   "source": [
    "#! /usr/bin/env python\n",
    "\n",
    "from pyspark import SparkConf, SparkContext\n",
    "import re"
   ]
  },
  {
   "cell_type": "code",
   "execution_count": 2,
   "metadata": {},
   "outputs": [],
   "source": [
    "try:\n",
    "    sc = SparkContext(conf=SparkConf().setAppName(\"MyApp\").setMaster(\"local\").set(\"spark.cores.max\", \"16\"))\n",
    "except:\n",
    "    pass"
   ]
  },
  {
   "cell_type": "code",
   "execution_count": 3,
   "metadata": {},
   "outputs": [],
   "source": [
    "#this is old code provided by Coursera\n",
    "def parse_edge(s):\n",
    "  user, follower = s.split(\"\\t\")\n",
    "  return (int(user), int(follower))\n",
    "\n",
    "def step(item):\n",
    "  prev_v, prev_d, next_v = item[0], item[1][0], item[1][1]\n",
    "  return (next_v, prev_d + 1)\n",
    "\n",
    "def complete(item):\n",
    "  v, old_d, new_d = item[0], item[1][0], item[1][1]\n",
    "  return (v, old_d if old_d is not None else new_d)"
   ]
  },
  {
   "cell_type": "code",
   "execution_count": 4,
   "metadata": {},
   "outputs": [
    {
     "name": "stdout",
     "output_type": "stream",
     "text": [
      "('candidates = ', [(126, 1), (380, 1), (422, 1), (648, 1)])\n",
      "\n",
      "\n",
      "('d = ', 1, 'count = ', 4, 'distances = ', [(648, 1), (380, 1), (12, 0), (126, 1), (422, 1)])\n",
      "\n",
      "\n",
      "('candidates = ', [(126, 1), (380, 1), (422, 1), (648, 1), (53, 2)])\n",
      "\n",
      "\n",
      "('d = ', 2, 'count = ', 1, 'distances = ', [(648, 1), (380, 1), (12, 0), (53, 2), (126, 1), (422, 1)])\n",
      "\n",
      "\n",
      "('candidates = ', [(126, 1), (380, 1), (422, 1), (648, 1), (31, 3), (52, 3), (57, 3), (150, 3), (187, 3), (292, 3), (652, 3), (53, 2)])\n",
      "\n",
      "\n",
      "('d = ', 3, 'count = ', 7, 'distances = ', [(292, 3), (648, 1), (12, 0), (652, 3), (52, 3), (380, 1), (57, 3), (53, 2), (126, 1), (422, 1), (150, 3), (187, 3), (31, 3)])\n",
      "\n",
      "\n",
      "('candidates = ', [(126, 1), (380, 1), (422, 1), (648, 1), (107, 4), (31, 3), (52, 3), (57, 3), (150, 3), (187, 3), (292, 3), (652, 3), (53, 2), (13, 4)])\n",
      "\n",
      "\n",
      "('d = ', 4, 'count = ', 2, 'distances = ', [(292, 3), (648, 1), (12, 0), (652, 3), (52, 3), (380, 1), (57, 3), (53, 2), (13, 4), (126, 1), (422, 1), (150, 3), (107, 4), (187, 3), (31, 3)])\n",
      "\n",
      "\n",
      "('candidates = ', [(126, 1), (380, 1), (422, 1), (648, 1), (107, 4), (31, 3), (52, 3), (57, 3), (150, 3), (187, 3), (292, 3), (652, 3), (53, 2), (13, 4), (15, 5), (20, 5), (586, 5)])\n",
      "\n",
      "\n",
      "('d = ', 5, 'count = ', 3, 'distances = ', [(292, 3), (648, 1), (12, 0), (652, 3), (52, 3), (20, 5), (380, 1), (57, 3), (53, 2), (13, 4), (586, 5), (126, 1), (422, 1), (150, 3), (15, 5), (107, 4), (187, 3), (31, 3)])\n",
      "\n",
      "\n",
      "('candidates = ', [(126, 1), (380, 1), (422, 1), (648, 1), (23, 6), (87, 6), (292, 6), (295, 6), (107, 4), (31, 3), (52, 3), (57, 3), (150, 3), (187, 3), (292, 3), (652, 3), (107, 6), (53, 2), (13, 4), (15, 5), (20, 5), (586, 5)])\n",
      "\n",
      "\n",
      "('d = ', 6, 'count = ', 3, 'distances = ', [(292, 3), (292, 3), (648, 1), (12, 0), (652, 3), (52, 3), (20, 5), (380, 1), (57, 3), (53, 2), (13, 4), (586, 5), (126, 1), (422, 1), (150, 3), (295, 6), (107, 4), (107, 4), (15, 5), (23, 6), (87, 6), (187, 3), (31, 3)])\n",
      "\n",
      "\n",
      "('candidates = ', [(126, 1), (380, 1), (422, 1), (648, 1), (23, 6), (87, 6), (292, 6), (295, 6), (107, 4), (31, 3), (52, 3), (57, 3), (150, 3), (187, 3), (292, 3), (652, 3), (107, 6), (53, 2), (16, 7), (38, 7), (274, 7), (13, 4), (64, 7), (15, 5), (20, 5), (586, 5), (15, 5), (20, 5), (586, 5)])\n",
      "\n",
      "\n",
      "('d = ', 7, 'count = ', 4, 'distances = ', [(64, 7), (292, 3), (292, 3), (292, 3), (292, 3), (648, 1), (12, 0), (652, 3), (16, 7), (52, 3), (20, 5), (20, 5), (380, 1), (57, 3), (53, 2), (13, 4), (422, 1), (38, 7), (586, 5), (586, 5), (274, 7), (150, 3), (126, 1), (107, 4), (107, 4), (107, 4), (107, 4), (295, 6), (87, 6), (15, 5), (15, 5), (23, 6), (187, 3), (31, 3)])\n",
      "\n",
      "\n",
      "('candidates = ', [(126, 1), (380, 1), (422, 1), (648, 1), (23, 6), (87, 6), (292, 6), (295, 6), (23, 6), (87, 6), (292, 6), (295, 6), (107, 4), (31, 3), (52, 3), (57, 3), (150, 3), (187, 3), (292, 3), (652, 3), (17, 8), (34, 8), (107, 6), (107, 6), (53, 2), (16, 7), (38, 7), (274, 7), (13, 4), (64, 7), (15, 5), (20, 5), (586, 5), (15, 5), (20, 5), (586, 5), (15, 5), (20, 5), (586, 5), (15, 5), (20, 5), (586, 5)])\n",
      "\n",
      "\n",
      "('d = ', 8, 'count = ', 2, 'distances = ', [(64, 7), (292, 3), (292, 3), (292, 3), (292, 3), (292, 3), (292, 3), (292, 3), (292, 3), (292, 3), (292, 3), (292, 3), (292, 3), (648, 1), (12, 0), (652, 3), (16, 7), (52, 3), (20, 5), (20, 5), (20, 5), (20, 5), (20, 5), (20, 5), (20, 5), (20, 5), (380, 1), (57, 3), (17, 8), (53, 2), (13, 4), (34, 8), (422, 1), (38, 7), (586, 5), (586, 5), (586, 5), (586, 5), (586, 5), (586, 5), (586, 5), (586, 5), (274, 7), (150, 3), (126, 1), (107, 4), (107, 4), (107, 4), (107, 4), (107, 4), (107, 4), (107, 4), (107, 4), (107, 4), (107, 4), (107, 4), (107, 4), (295, 6), (295, 6), (87, 6), (87, 6), (15, 5), (15, 5), (15, 5), (15, 5), (15, 5), (15, 5), (15, 5), (15, 5), (23, 6), (23, 6), (187, 3), (31, 3)])\n",
      "\n",
      "\n",
      "('candidates = ', [(126, 1), (380, 1), (422, 1), (648, 1), (23, 6), (87, 6), (292, 6), (295, 6), (23, 6), (87, 6), (292, 6), (295, 6), (23, 6), (87, 6), (292, 6), (295, 6), (23, 6), (87, 6), (292, 6), (295, 6), (23, 6), (87, 6), (292, 6), (295, 6), (23, 6), (87, 6), (292, 6), (295, 6), (23, 6), (87, 6), (292, 6), (295, 6), (23, 6), (87, 6), (292, 6), (295, 6), (107, 4), (31, 3), (52, 3), (57, 3), (150, 3), (187, 3), (292, 3), (652, 3), (17, 8), (34, 8), (107, 6), (107, 6), (107, 6), (107, 6), (107, 6), (107, 6), (107, 6), (107, 6), (53, 2), (16, 7), (38, 7), (274, 7), (16, 7), (38, 7), (274, 7), (13, 4), (64, 7), (64, 7), (15, 5), (20, 5), (586, 5), (15, 5), (20, 5), (586, 5), (15, 5), (20, 5), (586, 5), (15, 5), (20, 5), (586, 5), (15, 5), (20, 5), (586, 5), (15, 5), (20, 5), (586, 5), (15, 5), (20, 5), (586, 5), (15, 5), (20, 5), (586, 5), (15, 5), (20, 5), (586, 5), (15, 5), (20, 5), (586, 5), (15, 5), (20, 5), (586, 5), (15, 5), (20, 5), (586, 5)])\n",
      "\n",
      "\n"
     ]
    }
   ],
   "source": [
    "#this is old code provided by Coursera\n",
    "n = 4  # 400 number of partitions\n",
    "edges = sc.textFile(\"/data/twitter/twitter_sample_small.txt\").map(parse_edge).cache()\n",
    "forward_edges = edges.map(lambda e: (e[1], e[0])).partitionBy(n).persist()\n",
    "\n",
    "x = 12\n",
    "d = 0\n",
    "distances = sc.parallelize([(x, d)]).partitionBy(n)\n",
    "while True:\n",
    "    candidates = distances.join(forward_edges, n).map(step)\n",
    "    print (\"candidates = \", candidates.collect())\n",
    "    print ('\\n')\n",
    "    new_distances = distances.fullOuterJoin(candidates, n).map(complete, True).persist()\n",
    "    count = new_distances.filter(lambda i: i[1] == d + 1).count()\n",
    "    if count > 0:\n",
    "        d += 1\n",
    "        distances = new_distances\n",
    "        print (\"d = \", d, \"count = \", count, \"distances = \", distances.collect())\n",
    "        print ('\\n')\n",
    "    else:\n",
    "        break"
   ]
  },
  {
   "cell_type": "code",
   "execution_count": null,
   "metadata": {},
   "outputs": [],
   "source": [
    "#this is new code"
   ]
  },
  {
   "cell_type": "code",
   "execution_count": 5,
   "metadata": {},
   "outputs": [],
   "source": [
    "n = 4  # 150 number of partitions\n",
    "start, end = 12, 34\n",
    "\n",
    "def parse_edge(s):\n",
    "    \"\"\"Parse raw data 'user\\tfollower into a tuple'\"\"\"\n",
    "    user, follower = s.split(\"\\t\")\n",
    "    return (int(user), int(follower))\n",
    "\n",
    "def step(item):\n",
    "    # Add one move along the graph\n",
    "    prev_v, prev_d, next_v = item[0], item[1][0], item[1][1]\n",
    "    return (next_v, prev_d + [next_v])\n",
    "\n",
    "edges = sc.textFile(\"/data/twitter/twitter_sample_small.txt\").map(parse_edge).cache()"
   ]
  },
  {
   "cell_type": "code",
   "execution_count": 6,
   "metadata": {},
   "outputs": [
    {
     "name": "stdout",
     "output_type": "stream",
     "text": [
      "12,422,53,52,107,20,23,274,34\n"
     ]
    }
   ],
   "source": [
    "# We want to find a path from 'start' to 'end' thus require forward edges\n",
    "forward_edges = edges.map(lambda e: (e[1], e[0])).partitionBy(n).persist()\n",
    "\n",
    "# Create a dataset composed of a tuple (current node, path).\n",
    "# We will fill up the array with possible path\n",
    "paths = sc.parallelize([(start, [start])]).partitionBy(n)\n",
    "\n",
    "def found():\n",
    "    return  paths.filter(lambda x: x[0] == end).count()\n",
    "\n",
    "while not found():\n",
    "    paths = paths.join(forward_edges, n).map(step)\n",
    "    \n",
    "paths.cache()\n",
    "\n",
    "final_paths = (paths\n",
    "               .filter(lambda value: value[0] == end)\n",
    "               .map(lambda value: value[1])\n",
    "              ).cache()\n",
    "\n",
    "result = final_paths.take(1)[0]\n",
    "\n",
    "print(','.join(map(str,result)))"
   ]
  }
 ],
 "metadata": {
  "kernelspec": {
   "display_name": "Python 2",
   "language": "python",
   "name": "python2"
  },
  "language_info": {
   "codemirror_mode": {
    "name": "ipython",
    "version": 2
   },
   "file_extension": ".py",
   "mimetype": "text/x-python",
   "name": "python",
   "nbconvert_exporter": "python",
   "pygments_lexer": "ipython2",
   "version": "2.7.12"
  }
 },
 "nbformat": 4,
 "nbformat_minor": 2
}
