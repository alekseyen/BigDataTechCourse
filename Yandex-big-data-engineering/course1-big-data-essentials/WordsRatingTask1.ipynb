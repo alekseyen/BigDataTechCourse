{
 "cells": [
  {
   "cell_type": "markdown",
   "metadata": {
    "colab_type": "text",
    "id": "Ebk-YqgqEOw1"
   },
   "source": [
    "# Hadoop Streaming assignment 1: Words Rating"
   ]
  },
  {
   "cell_type": "markdown",
   "metadata": {
    "colab_type": "text",
    "id": "XDLjl7hGEOw2"
   },
   "source": [
    "The purpose of this task is to create your own WordCount program for Wikipedia dump processing and learn basic concepts of the MapReduce.\n",
    "\n",
    "In this task you have to find the 7th word by popularity and its quantity in the reverse order (most popular first) in Wikipedia data (`/data/wiki/en_articles_part`).\n",
    "\n",
    "There are several points for this task:\n",
    "\n",
    "1) As an output, you have to get the 7th word and its quantity separated by a tab character.\n",
    "\n",
    "2) You must use the second job to obtain a totally ordered result.\n",
    "\n",
    "3) Do not forget to redirect all trash and output to /dev/null.\n",
    "\n",
    "Here you can find the draft of the task main steps. You can use other methods for solution obtaining."
   ]
  },
  {
   "cell_type": "markdown",
   "metadata": {
    "colab_type": "text",
    "id": "lIUikVIDEOw2"
   },
   "source": [
    "## Step 1. Create mapper and reducer.\n",
    "\n",
    "<b>Hint:</b>  Demo task contains almost all the necessary pieces to complete this assignment. You may use the demo to implement the first MapReduce Job."
   ]
  },
  {
   "cell_type": "code",
   "execution_count": 1,
   "metadata": {
    "colab": {
     "autoexec": {
      "startup": false,
      "wait_interval": 0
     }
    },
    "colab_type": "code",
    "id": "A7T5mxDwEOw4"
   },
   "outputs": [
    {
     "name": "stdout",
     "output_type": "stream",
     "text": [
      "Overwriting mapper1.py\n"
     ]
    }
   ],
   "source": [
    "%%writefile mapper1.py\n",
    "\n",
    "import sys\n",
    "import re\n",
    "from imp import reload\n",
    "if sys.version[0] == '2':\n",
    "    reload(sys)\n",
    "    sys.setdefaultencoding(\"utf-8\")\n",
    "    \n",
    "for line in sys.stdin:\n",
    "    try:\n",
    "        #print (\"line\", line)\n",
    "        article_id, text = unicode(line.strip()).split('\\t', 1)\n",
    "    except ValueError as e:\n",
    "        print(\"error\", e)\n",
    "        continue\n",
    "    #text = re.sub(\"^\\W+|\\W+$\", \"\", text, flags=re.UNICODE)\n",
    "    words = re.split(\"\\W*\\s+\\W*\", text, flags=re.UNICODE)\n",
    "    #print (words)\n",
    "    for word in words:\n",
    "        #print (word)\n",
    "        print >> sys.stderr, \"reporter:counter:Wiki stats,Total words,%d\" % 1\n",
    "        #print \"%s\\t%s\" % (word.lower(), 1)\n",
    "        print (\"%s\\t%d\" % (word.lower(), 1))"
   ]
  },
  {
   "cell_type": "code",
   "execution_count": 2,
   "metadata": {
    "colab": {
     "autoexec": {
      "startup": false,
      "wait_interval": 0
     }
    },
    "colab_type": "code",
    "id": "oE8KFKqpEOw5"
   },
   "outputs": [
    {
     "name": "stdout",
     "output_type": "stream",
     "text": [
      "Overwriting reducer1.py\n"
     ]
    }
   ],
   "source": [
    "%%writefile reducer1.py\n",
    "\n",
    "# Your code for reducer here.\n",
    "import sys\n",
    "\n",
    "current_key = None\n",
    "word_sum = 0\n",
    "\n",
    "for line in sys.stdin:\n",
    "    try:\n",
    "        key, count = line.strip().split('\\t', 1)\n",
    "        count = int(count)\n",
    "    except ValueError as e:\n",
    "        continue\n",
    "    if current_key != key:\n",
    "        if current_key:\n",
    "            print (\"%s\\t%d\" % (current_key, word_sum))\n",
    "        word_sum = 0\n",
    "        current_key = key\n",
    "    word_sum += count\n",
    "\n",
    "if current_key:\n",
    "    print (\"%s\\t%d\" % (current_key, word_sum))"
   ]
  },
  {
   "cell_type": "code",
   "execution_count": 3,
   "metadata": {
    "colab": {
     "autoexec": {
      "startup": false,
      "wait_interval": 0
     }
    },
    "colab_type": "code",
    "id": "LJtc3_u0uXSz"
   },
   "outputs": [],
   "source": [
    "# You can use this cell for other experiments: for example, for combiner."
   ]
  },
  {
   "cell_type": "markdown",
   "metadata": {
    "colab_type": "text",
    "id": "4OBE81GZEOw8"
   },
   "source": [
    "## Step 3. Bash commands\n",
    "\n",
    "<b> Hint: </b> For printing the exact row you may use basic UNIX commands. For instance, sed/head/tail/... (if you know other commands, you can use them).\n",
    "\n",
    "To run both jobs, you must use two consecutive yarn-commands. Remember that the input for the second job is the ouput for the first job."
   ]
  },
  {
   "cell_type": "code",
   "execution_count": 4,
   "metadata": {
    "colab": {
     "autoexec": {
      "startup": false,
      "wait_interval": 0
     }
    },
    "colab_type": "code",
    "id": "1q9NczdIEOw9",
    "scrolled": true
   },
   "outputs": [
    {
     "name": "stdout",
     "output_type": "stream",
     "text": [
      "packageJobJar: [/tmp/hadoop-unjar7116176628512418307/] [] /tmp/streamjob2027331284089294345.jar tmpDir=null\n",
      "packageJobJar: [/tmp/hadoop-unjar657501699728138246/] [] /tmp/streamjob3636859616533705165.jar tmpDir=null\n",
      "is\t126420\t\n"
     ]
    },
    {
     "name": "stderr",
     "output_type": "stream",
     "text": [
      "rm: `wordsrating_job1_1545448365391146': No such file or directory\n",
      "18/12/22 03:12:47 INFO client.RMProxy: Connecting to ResourceManager at /0.0.0.0:8032\n",
      "18/12/22 03:12:48 INFO client.RMProxy: Connecting to ResourceManager at /0.0.0.0:8032\n",
      "18/12/22 03:12:48 INFO mapred.FileInputFormat: Total input files to process : 1\n",
      "18/12/22 03:12:48 INFO mapreduce.JobSubmitter: number of splits:2\n",
      "18/12/22 03:12:48 INFO mapreduce.JobSubmitter: Submitting tokens for job: job_1545429137258_0014\n",
      "18/12/22 03:12:48 INFO impl.YarnClientImpl: Submitted application application_1545429137258_0014\n",
      "18/12/22 03:12:48 INFO mapreduce.Job: The url to track the job: http://3bfb327c519e:8088/proxy/application_1545429137258_0014/\n",
      "18/12/22 03:12:48 INFO mapreduce.Job: Running job: job_1545429137258_0014\n",
      "18/12/22 03:12:54 INFO mapreduce.Job: Job job_1545429137258_0014 running in uber mode : false\n",
      "18/12/22 03:12:54 INFO mapreduce.Job:  map 0% reduce 0%\n",
      "18/12/22 03:13:09 INFO mapreduce.Job:  map 46% reduce 0%\n",
      "18/12/22 03:13:15 INFO mapreduce.Job:  map 55% reduce 0%\n",
      "18/12/22 03:13:21 INFO mapreduce.Job:  map 67% reduce 0%\n",
      "18/12/22 03:13:22 INFO mapreduce.Job:  map 83% reduce 0%\n",
      "18/12/22 03:13:23 INFO mapreduce.Job:  map 100% reduce 0%\n",
      "18/12/22 03:13:27 INFO mapreduce.Job:  map 100% reduce 13%\n",
      "18/12/22 03:13:28 INFO mapreduce.Job:  map 100% reduce 25%\n",
      "18/12/22 03:13:29 INFO mapreduce.Job:  map 100% reduce 38%\n",
      "18/12/22 03:13:30 INFO mapreduce.Job:  map 100% reduce 50%\n",
      "18/12/22 03:13:31 INFO mapreduce.Job:  map 100% reduce 75%\n",
      "18/12/22 03:13:32 INFO mapreduce.Job:  map 100% reduce 88%\n",
      "18/12/22 03:13:33 INFO mapreduce.Job:  map 100% reduce 100%\n",
      "18/12/22 03:13:34 INFO mapreduce.Job: Job job_1545429137258_0014 completed successfully\n",
      "18/12/22 03:13:34 INFO mapreduce.Job: Counters: 51\n",
      "\tFile System Counters\n",
      "\t\tFILE: Number of bytes read=17954826\n",
      "\t\tFILE: Number of bytes written=28256673\n",
      "\t\tFILE: Number of read operations=0\n",
      "\t\tFILE: Number of large read operations=0\n",
      "\t\tFILE: Number of write operations=0\n",
      "\t\tHDFS: Number of bytes read=76874501\n",
      "\t\tHDFS: Number of bytes written=5370513\n",
      "\t\tHDFS: Number of read operations=30\n",
      "\t\tHDFS: Number of large read operations=0\n",
      "\t\tHDFS: Number of write operations=16\n",
      "\tJob Counters \n",
      "\t\tKilled reduce tasks=1\n",
      "\t\tLaunched map tasks=2\n",
      "\t\tLaunched reduce tasks=8\n",
      "\t\tData-local map tasks=2\n",
      "\t\tTotal time spent by all maps in occupied slots (ms)=53485\n",
      "\t\tTotal time spent by all reduces in occupied slots (ms)=16796\n",
      "\t\tTotal time spent by all map tasks (ms)=53485\n",
      "\t\tTotal time spent by all reduce tasks (ms)=16796\n",
      "\t\tTotal vcore-milliseconds taken by all map tasks=53485\n",
      "\t\tTotal vcore-milliseconds taken by all reduce tasks=16796\n",
      "\t\tTotal megabyte-milliseconds taken by all map tasks=54768640\n",
      "\t\tTotal megabyte-milliseconds taken by all reduce tasks=17199104\n",
      "\tMap-Reduce Framework\n",
      "\t\tMap input records=4100\n",
      "\t\tMap output records=11937375\n",
      "\t\tMap output bytes=97842436\n",
      "\t\tMap output materialized bytes=8952763\n",
      "\t\tInput split bytes=228\n",
      "\t\tCombine input records=11937375\n",
      "\t\tCombine output records=640011\n",
      "\t\tReduce input groups=427175\n",
      "\t\tReduce shuffle bytes=8952763\n",
      "\t\tReduce input records=640011\n",
      "\t\tReduce output records=427175\n",
      "\t\tSpilled Records=1920033\n",
      "\t\tShuffled Maps =16\n",
      "\t\tFailed Shuffles=0\n",
      "\t\tMerged Map outputs=16\n",
      "\t\tGC time elapsed (ms)=961\n",
      "\t\tCPU time spent (ms)=112200\n",
      "\t\tPhysical memory (bytes) snapshot=2315067392\n",
      "\t\tVirtual memory (bytes) snapshot=20232355840\n",
      "\t\tTotal committed heap usage (bytes)=1601175552\n",
      "\tShuffle Errors\n",
      "\t\tBAD_ID=0\n",
      "\t\tCONNECTION=0\n",
      "\t\tIO_ERROR=0\n",
      "\t\tWRONG_LENGTH=0\n",
      "\t\tWRONG_MAP=0\n",
      "\t\tWRONG_REDUCE=0\n",
      "\tWiki stats\n",
      "\t\tTotal words=11937375\n",
      "\tFile Input Format Counters \n",
      "\t\tBytes Read=76874273\n",
      "\tFile Output Format Counters \n",
      "\t\tBytes Written=5370513\n",
      "18/12/22 03:13:34 INFO streaming.StreamJob: Output directory: wordsrating_job1_1545448365391146\n",
      "18/12/22 03:13:35 INFO client.RMProxy: Connecting to ResourceManager at /0.0.0.0:8032\n",
      "18/12/22 03:13:35 INFO client.RMProxy: Connecting to ResourceManager at /0.0.0.0:8032\n",
      "18/12/22 03:13:36 INFO mapred.FileInputFormat: Total input files to process : 8\n",
      "18/12/22 03:13:36 INFO mapreduce.JobSubmitter: number of splits:8\n",
      "18/12/22 03:13:36 INFO mapreduce.JobSubmitter: Submitting tokens for job: job_1545429137258_0015\n",
      "18/12/22 03:13:36 INFO impl.YarnClientImpl: Submitted application application_1545429137258_0015\n",
      "18/12/22 03:13:36 INFO mapreduce.Job: The url to track the job: http://3bfb327c519e:8088/proxy/application_1545429137258_0015/\n",
      "18/12/22 03:13:36 INFO mapreduce.Job: Running job: job_1545429137258_0015\n",
      "18/12/22 03:13:43 INFO mapreduce.Job: Job job_1545429137258_0015 running in uber mode : false\n",
      "18/12/22 03:13:43 INFO mapreduce.Job:  map 0% reduce 0%\n",
      "18/12/22 03:13:48 INFO mapreduce.Job:  map 75% reduce 0%\n",
      "18/12/22 03:13:51 INFO mapreduce.Job:  map 100% reduce 0%\n",
      "18/12/22 03:13:53 INFO mapreduce.Job:  map 100% reduce 100%\n",
      "18/12/22 03:13:53 INFO mapreduce.Job: Job job_1545429137258_0015 completed successfully\n",
      "18/12/22 03:13:54 INFO mapreduce.Job: Counters: 49\n",
      "\tFile System Counters\n",
      "\t\tFILE: Number of bytes read=6651989\n",
      "\t\tFILE: Number of bytes written=14563128\n",
      "\t\tFILE: Number of read operations=0\n",
      "\t\tFILE: Number of large read operations=0\n",
      "\t\tFILE: Number of write operations=0\n",
      "\t\tHDFS: Number of bytes read=5371553\n",
      "\t\tHDFS: Number of bytes written=5797610\n",
      "\t\tHDFS: Number of read operations=27\n",
      "\t\tHDFS: Number of large read operations=0\n",
      "\t\tHDFS: Number of write operations=2\n",
      "\tJob Counters \n",
      "\t\tLaunched map tasks=8\n",
      "\t\tLaunched reduce tasks=1\n",
      "\t\tData-local map tasks=8\n",
      "\t\tTotal time spent by all maps in occupied slots (ms)=20169\n",
      "\t\tTotal time spent by all reduces in occupied slots (ms)=2390\n",
      "\t\tTotal time spent by all map tasks (ms)=20169\n",
      "\t\tTotal time spent by all reduce tasks (ms)=2390\n",
      "\t\tTotal vcore-milliseconds taken by all map tasks=20169\n",
      "\t\tTotal vcore-milliseconds taken by all reduce tasks=2390\n",
      "\t\tTotal megabyte-milliseconds taken by all map tasks=20653056\n",
      "\t\tTotal megabyte-milliseconds taken by all reduce tasks=2447360\n",
      "\tMap-Reduce Framework\n",
      "\t\tMap input records=427175\n",
      "\t\tMap output records=427175\n",
      "\t\tMap output bytes=5797621\n",
      "\t\tMap output materialized bytes=6652031\n",
      "\t\tInput split bytes=1040\n",
      "\t\tCombine input records=0\n",
      "\t\tCombine output records=0\n",
      "\t\tReduce input groups=427175\n",
      "\t\tReduce shuffle bytes=6652031\n",
      "\t\tReduce input records=427175\n",
      "\t\tReduce output records=427175\n",
      "\t\tSpilled Records=854350\n",
      "\t\tShuffled Maps =8\n",
      "\t\tFailed Shuffles=0\n",
      "\t\tMerged Map outputs=8\n",
      "\t\tGC time elapsed (ms)=674\n",
      "\t\tCPU time spent (ms)=15680\n",
      "\t\tPhysical memory (bytes) snapshot=2541080576\n",
      "\t\tVirtual memory (bytes) snapshot=18122129408\n",
      "\t\tTotal committed heap usage (bytes)=1749549056\n",
      "\tShuffle Errors\n",
      "\t\tBAD_ID=0\n",
      "\t\tCONNECTION=0\n",
      "\t\tIO_ERROR=0\n",
      "\t\tWRONG_LENGTH=0\n",
      "\t\tWRONG_MAP=0\n",
      "\t\tWRONG_REDUCE=0\n",
      "\tFile Input Format Counters \n",
      "\t\tBytes Read=5370513\n",
      "\tFile Output Format Counters \n",
      "\t\tBytes Written=5797610\n",
      "18/12/22 03:13:54 INFO streaming.StreamJob: Output directory: wordsrating_job2_1545448365393344\n",
      "cat: Unable to write to output stream.\n",
      "rm: `counter_process.py': No such file or directory\n",
      "rm: `functions.py': No such file or directory\n",
      "rm: `mapper1.py': No such file or directory\n",
      "rm: `mapper2.py': No such file or directory\n",
      "rm: `mapper.py': No such file or directory\n",
      "rm: `NameCountTask3.ipynb': No such file or directory\n",
      "rm: `__pycache__': No such file or directory\n",
      "rm: `README.md': No such file or directory\n",
      "rm: `reducer1.py': No such file or directory\n",
      "rm: `reducer2.py': No such file or directory\n",
      "rm: `reducer.py': No such file or directory\n",
      "rm: `stderr_logs.txt': No such file or directory\n",
      "rm: `StopWordsTask2.ipynb': No such file or directory\n",
      "rm: `supervisord.log': No such file or directory\n",
      "rm: `supervisord.pid': No such file or directory\n",
      "rm: `WordCountTask0.ipynb': No such file or directory\n",
      "rm: `WordGroupsTask4.ipynb': No such file or directory\n",
      "rm: `WordsRatingTask1.ipynb': No such file or directory\n"
     ]
    }
   ],
   "source": [
    "%%bash\n",
    "\n",
    "OUT_DIR_JOB1=\"wordsrating_job1_\"$(date +\"%s%6N\")\n",
    "OUT_DIR_JOB2=\"wordsrating_job2_\"$(date +\"%s%6N\")\n",
    "\n",
    "# Code for your first job\n",
    "# yarn jar /opt/cloudera/parcels/CDH/lib/hadoop-mapreduce/hadoop-streaming.jar ...\n",
    "NUM_REDUCERS=8\n",
    "hdfs dfs -rm -r -skipTrash ${OUT_DIR_JOB1} > /dev/null\n",
    "\n",
    "yarn jar /opt/cloudera/parcels/CDH/lib/hadoop-mapreduce/hadoop-streaming.jar \\\n",
    "    -D mapreduce.job.name=\"Streaming wordsRating Job 1\" \\\n",
    "    -D mapreduce.job.reduces=${NUM_REDUCERS} \\\n",
    "    -files mapper1.py,reducer1.py \\\n",
    "    -mapper \"python mapper1.py\" \\\n",
    "    -combiner \"python reducer1.py\" \\\n",
    "    -reducer \"python reducer1.py\" \\\n",
    "    -input /data/wiki/en_articles_part \\\n",
    "    -output ${OUT_DIR_JOB1} > /dev/null\n",
    "\n",
    "# Code for your second job\n",
    "yarn jar /opt/cloudera/parcels/CDH/lib/hadoop-mapreduce/hadoop-streaming.jar \\\n",
    "    -D mapreduce.job.output.key.comparator.class=org.apache.hadoop.mapreduce.lib.partition.KeyFieldBasedComparator \\\n",
    "    -D mapreduce.job.name=\"Streaming wordsRating Job 2\" \\\n",
    "    -D stream.map.output.field.separator=\"\\t\" \\\n",
    "    -D stream.num.map.output.key.fields=2 \\\n",
    "    -D mapreduce.partition.keycomparator.options=\"-k2,2nr\" \\\n",
    "    -D mapreduce.job.reduces=1 \\\n",
    "    -files reducer1.py \\\n",
    "    -mapper /bin/cat \\\n",
    "    -reducer /bin/cat \\\n",
    "    -input ${OUT_DIR_JOB1} \\\n",
    "    -output ${OUT_DIR_JOB2} > /dev/null\n",
    "\n",
    "# Code for obtaining the results\n",
    "hdfs dfs -cat ${OUT_DIR_JOB2}/part-00000 | sed -n '7p;8q'\n",
    "hdfs dfs -rm -r -skipTrash ${OUT_DIR_JOB2}* > /dev/null"
   ]
  }
 ],
 "metadata": {
  "colab": {
   "collapsed_sections": [],
   "default_view": {},
   "name": "701_to_students.ipynb",
   "provenance": [],
   "version": "0.3.2",
   "views": {}
  },
  "kernelspec": {
   "display_name": "Python 3",
   "language": "python",
   "name": "python3"
  },
  "language_info": {
   "codemirror_mode": {
    "name": "ipython",
    "version": 3
   },
   "file_extension": ".py",
   "mimetype": "text/x-python",
   "name": "python",
   "nbconvert_exporter": "python",
   "pygments_lexer": "ipython3",
   "version": "3.6.6"
  }
 },
 "nbformat": 4,
 "nbformat_minor": 1
}
