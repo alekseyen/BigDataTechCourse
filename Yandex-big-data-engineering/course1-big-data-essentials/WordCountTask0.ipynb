{
 "cells": [
  {
   "cell_type": "code",
   "execution_count": 1,
   "metadata": {},
   "outputs": [
    {
     "name": "stdout",
     "output_type": "stream",
     "text": [
      "Overwriting mapper.py\n"
     ]
    }
   ],
   "source": [
    "%%writefile mapper.py\n",
    "\n",
    "import sys\n",
    "import re\n",
    "from imp import reload\n",
    "if sys.version[0] == '2':\n",
    "    reload(sys)\n",
    "    sys.setdefaultencoding(\"utf-8\")\n",
    "    \n",
    "for line in sys.stdin:\n",
    "    try:\n",
    "        #print (\"line\", line)\n",
    "        article_id, text = unicode(line.strip()).split('\\t', 1)\n",
    "    except ValueError as e:\n",
    "        print(\"error\", e)\n",
    "        continue\n",
    "    #text = re.sub(\"^\\W+|\\W+$\", \"\", text, flags=re.UNICODE)\n",
    "    words = re.split(\"\\W*\\s+\\W*\", text, flags=re.UNICODE)\n",
    "    #print (words)\n",
    "    for word in words:\n",
    "        #print (word)\n",
    "        print >> sys.stderr, \"reporter:counter:Wiki stats,Total words,%d\" % 1\n",
    "        #print \"%s\\t%s\" % (word.lower(), 1)\n",
    "        print \"%s\\t%d\" % (word.lower(), 1)"
   ]
  },
  {
   "cell_type": "code",
   "execution_count": 2,
   "metadata": {},
   "outputs": [],
   "source": [
    "#! python -m pycompile mapper.py"
   ]
  },
  {
   "cell_type": "code",
   "execution_count": 3,
   "metadata": {},
   "outputs": [
    {
     "name": "stdout",
     "output_type": "stream",
     "text": [
      "Overwriting reducer.py\n"
     ]
    }
   ],
   "source": [
    "%%writefile reducer.py\n",
    "\n",
    "import sys\n",
    "\n",
    "current_key = None\n",
    "word_sum = 0"
   ]
  },
  {
   "cell_type": "code",
   "execution_count": 4,
   "metadata": {},
   "outputs": [
    {
     "name": "stdout",
     "output_type": "stream",
     "text": [
      "Appending to reducer.py\n"
     ]
    }
   ],
   "source": [
    "%%writefile -a reducer.py\n",
    "\n",
    "for line in sys.stdin:\n",
    "    try:\n",
    "        key, count = line.strip().split('\\t', 1)\n",
    "        count = int(count)\n",
    "    except ValueError as e:\n",
    "        continue\n",
    "    if current_key != key:\n",
    "        if current_key:\n",
    "            print \"%s\\t%d\" % (current_key, word_sum)\n",
    "        word_sum = 0\n",
    "        current_key = key\n",
    "    word_sum += count\n",
    "\n",
    "if current_key:\n",
    "    print \"%s\\t%d\" % (current_key, word_sum)"
   ]
  },
  {
   "cell_type": "code",
   "execution_count": 5,
   "metadata": {},
   "outputs": [
    {
     "name": "stdout",
     "output_type": "stream",
     "text": [
      "Found 1 items\r\n",
      "drwxrwxrwx   - jovyan supergroup          0 2018-08-01 17:15 /data/wiki/en_articles_part\r\n"
     ]
    }
   ],
   "source": [
    "! hdfs dfs -ls /data/wiki"
   ]
  },
  {
   "cell_type": "code",
   "execution_count": 6,
   "metadata": {},
   "outputs": [
    {
     "name": "stdout",
     "output_type": "stream",
     "text": [
      "0%however\t1\n",
      "0&\\mathrm{if\t1\n",
      "0(8)320-1234\t1\n",
      "0)).(1\t2\n",
      "0,03\t1\n",
      "0,1,...,n\t1\n",
      "0,1,0\t1\n",
      "0,1,\\dots,n\t1\n",
      "0,5\t1\n",
      "0,50\t1\n"
     ]
    },
    {
     "name": "stderr",
     "output_type": "stream",
     "text": [
      "rm: `wordcount_result_1545182911798629': No such file or directory\n",
      "18/12/19 01:28:34 INFO client.RMProxy: Connecting to ResourceManager at /0.0.0.0:8032\n",
      "18/12/19 01:28:34 INFO client.RMProxy: Connecting to ResourceManager at /0.0.0.0:8032\n",
      "18/12/19 01:28:34 INFO mapred.FileInputFormat: Total input files to process : 1\n",
      "18/12/19 01:28:35 INFO mapreduce.JobSubmitter: number of splits:2\n",
      "18/12/19 01:28:35 INFO Configuration.deprecation: mapred.job.name is deprecated. Instead, use mapreduce.job.name\n",
      "18/12/19 01:28:35 INFO mapreduce.JobSubmitter: Submitting tokens for job: job_1545181678310_0005\n",
      "18/12/19 01:28:35 INFO impl.YarnClientImpl: Submitted application application_1545181678310_0005\n",
      "18/12/19 01:28:35 INFO mapreduce.Job: The url to track the job: http://3bfb327c519e:8088/proxy/application_1545181678310_0005/\n",
      "18/12/19 01:28:35 INFO mapreduce.Job: Running job: job_1545181678310_0005\n",
      "18/12/19 01:28:40 INFO mapreduce.Job: Job job_1545181678310_0005 running in uber mode : false\n",
      "18/12/19 01:28:40 INFO mapreduce.Job:  map 0% reduce 0%\n",
      "18/12/19 01:28:55 INFO mapreduce.Job:  map 46% reduce 0%\n",
      "18/12/19 01:29:01 INFO mapreduce.Job:  map 54% reduce 0%\n",
      "18/12/19 01:29:07 INFO mapreduce.Job:  map 67% reduce 0%\n",
      "18/12/19 01:29:08 INFO mapreduce.Job:  map 83% reduce 0%\n",
      "18/12/19 01:29:09 INFO mapreduce.Job:  map 100% reduce 0%\n",
      "18/12/19 01:29:12 INFO mapreduce.Job:  map 100% reduce 13%\n",
      "18/12/19 01:29:13 INFO mapreduce.Job:  map 100% reduce 25%\n",
      "18/12/19 01:29:14 INFO mapreduce.Job:  map 100% reduce 38%\n",
      "18/12/19 01:29:15 INFO mapreduce.Job:  map 100% reduce 50%\n",
      "18/12/19 01:29:16 INFO mapreduce.Job:  map 100% reduce 63%\n",
      "18/12/19 01:29:17 INFO mapreduce.Job:  map 100% reduce 75%\n",
      "18/12/19 01:29:18 INFO mapreduce.Job:  map 100% reduce 88%\n",
      "18/12/19 01:29:19 INFO mapreduce.Job:  map 100% reduce 100%\n",
      "18/12/19 01:29:19 INFO mapreduce.Job: Job job_1545181678310_0005 completed successfully\n",
      "18/12/19 01:29:19 INFO mapreduce.Job: Counters: 51\n",
      "\tFile System Counters\n",
      "\t\tFILE: Number of bytes read=17954826\n",
      "\t\tFILE: Number of bytes written=28256143\n",
      "\t\tFILE: Number of read operations=0\n",
      "\t\tFILE: Number of large read operations=0\n",
      "\t\tFILE: Number of write operations=0\n",
      "\t\tHDFS: Number of bytes read=76874501\n",
      "\t\tHDFS: Number of bytes written=5370513\n",
      "\t\tHDFS: Number of read operations=30\n",
      "\t\tHDFS: Number of large read operations=0\n",
      "\t\tHDFS: Number of write operations=16\n",
      "\tJob Counters \n",
      "\t\tKilled reduce tasks=1\n",
      "\t\tLaunched map tasks=2\n",
      "\t\tLaunched reduce tasks=8\n",
      "\t\tData-local map tasks=2\n",
      "\t\tTotal time spent by all maps in occupied slots (ms)=53831\n",
      "\t\tTotal time spent by all reduces in occupied slots (ms)=16556\n",
      "\t\tTotal time spent by all map tasks (ms)=53831\n",
      "\t\tTotal time spent by all reduce tasks (ms)=16556\n",
      "\t\tTotal vcore-milliseconds taken by all map tasks=53831\n",
      "\t\tTotal vcore-milliseconds taken by all reduce tasks=16556\n",
      "\t\tTotal megabyte-milliseconds taken by all map tasks=55122944\n",
      "\t\tTotal megabyte-milliseconds taken by all reduce tasks=16953344\n",
      "\tMap-Reduce Framework\n",
      "\t\tMap input records=4100\n",
      "\t\tMap output records=11937375\n",
      "\t\tMap output bytes=97842436\n",
      "\t\tMap output materialized bytes=8952763\n",
      "\t\tInput split bytes=228\n",
      "\t\tCombine input records=11937375\n",
      "\t\tCombine output records=640011\n",
      "\t\tReduce input groups=427175\n",
      "\t\tReduce shuffle bytes=8952763\n",
      "\t\tReduce input records=640011\n",
      "\t\tReduce output records=427175\n",
      "\t\tSpilled Records=1920033\n",
      "\t\tShuffled Maps =16\n",
      "\t\tFailed Shuffles=0\n",
      "\t\tMerged Map outputs=16\n",
      "\t\tGC time elapsed (ms)=958\n",
      "\t\tCPU time spent (ms)=112900\n",
      "\t\tPhysical memory (bytes) snapshot=2371686400\n",
      "\t\tVirtual memory (bytes) snapshot=20237668352\n",
      "\t\tTotal committed heap usage (bytes)=1602748416\n",
      "\tShuffle Errors\n",
      "\t\tBAD_ID=0\n",
      "\t\tCONNECTION=0\n",
      "\t\tIO_ERROR=0\n",
      "\t\tWRONG_LENGTH=0\n",
      "\t\tWRONG_MAP=0\n",
      "\t\tWRONG_REDUCE=0\n",
      "\tWiki stats\n",
      "\t\tTotal words=11937375\n",
      "\tFile Input Format Counters \n",
      "\t\tBytes Read=76874273\n",
      "\tFile Output Format Counters \n",
      "\t\tBytes Written=5370513\n",
      "18/12/19 01:29:19 INFO streaming.StreamJob: Output directory: wordcount_result_1545182911798629\n",
      "cat: Unable to write to output stream.\n"
     ]
    }
   ],
   "source": [
    "%%bash\n",
    "\n",
    "OUT_DIR=\"wordcount_result_\"$(date +\"%s%6N\")\n",
    "NUM_REDUCERS=8\n",
    "\n",
    "hdfs dfs -rm -r -skipTrash ${OUT_DIR} > /dev/null\n",
    "\n",
    "yarn jar /opt/cloudera/parcels/CDH/lib/hadoop-mapreduce/hadoop-streaming.jar \\\n",
    "    -D mapred.job.name=\"Streaming wordCount\" \\\n",
    "    -D mapreduce.job.reduces=${NUM_REDUCERS} \\\n",
    "    -files mapper.py,reducer.py \\\n",
    "    -mapper \"python mapper.py\" \\\n",
    "    -combiner \"python reducer.py\" \\\n",
    "    -reducer \"python reducer.py\" \\\n",
    "    -input /data/wiki/en_articles_part \\\n",
    "    -output ${OUT_DIR} > /dev/null\n",
    "\n",
    "hdfs dfs -cat ${OUT_DIR}/part-00000 | head"
   ]
  },
  {
   "cell_type": "markdown",
   "metadata": {},
   "source": [
    "### Grade system output: \n",
    "===== Testing (num. 700): STARTING =====\n",
    "Executing notebook with kernel: python2\n",
    "Testing (num. 700): test CRS700_4 failed on line \"0-00-655138-6\t1\"!\n",
    "CRS700_4 description: Check the result word\n",
    "\n",
    "===== Testing (num. 700): SUMMARY =====\n",
    "Tests passed: crs700_3 crs700_5 mrb17 mrb19_0 mrb19_1 sp7_10 res1 res2_1 res3 res6_1 res7_1\n",
    "Tests failed: crs700_4\n",
    "==================================================\n",
    "Duration: 57.0 sec\n",
    "VCoreSeconds: 225 sec \n",
    "\n",
    "0"
   ]
  },
  {
   "cell_type": "code",
   "execution_count": null,
   "metadata": {},
   "outputs": [],
   "source": []
  }
 ],
 "metadata": {
  "kernelspec": {
   "display_name": "Python 2",
   "language": "python",
   "name": "python2"
  },
  "language_info": {
   "codemirror_mode": {
    "name": "ipython",
    "version": 2
   },
   "file_extension": ".py",
   "mimetype": "text/x-python",
   "name": "python",
   "nbconvert_exporter": "python",
   "pygments_lexer": "ipython2",
   "version": "2.7.12"
  }
 },
 "nbformat": 4,
 "nbformat_minor": 2
}
