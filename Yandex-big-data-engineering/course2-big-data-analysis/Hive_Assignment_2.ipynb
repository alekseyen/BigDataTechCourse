{
 "cells": [
  {
   "cell_type": "markdown",
   "metadata": {
    "colab_type": "text",
    "id": "ZfiL39OTJ5sR"
   },
   "source": [
    "# Hive assignment 2"
   ]
  },
  {
   "cell_type": "markdown",
   "metadata": {
    "colab_type": "text",
    "id": "VD19-0y3J5sR"
   },
   "source": [
    "Compare most popular tags in year 2016 with tags in 2009. Tag popularity is the number of questions (post_type_id=1) with this tag. Output top 10 tags in format:"
   ]
  },
  {
   "cell_type": "markdown",
   "metadata": {},
   "source": [
    "tag <tab> rank in 2016 <tab> rank in 2009 <tab> tag popularity in 2016 <tab> tag popularity in 2009\n",
    "    \n",
    "Example:"
   ]
  },
  {
   "cell_type": "markdown",
   "metadata": {},
   "source": [
    "    php 5 3 1234 5678\n"
   ]
  },
  {
   "cell_type": "markdown",
   "metadata": {},
   "source": [
    "For 'rank' in each year use rank() function. Order by 'rank in 2016'.\n",
    "\n",
    "The part of the result on the sample dataset:"
   ]
  },
  {
   "cell_type": "markdown",
   "metadata": {},
   "source": [
    "The result on the sample dataset:\n"
   ]
  },
  {
   "cell_type": "raw",
   "metadata": {},
   "source": [
    "...\n",
    "android 3   52  1809    25\n",
    "php 4   3   1673    215\n",
    "python  5   11  1585    108\n",
    "c#  6   1   1519    423\n",
    "...\n"
   ]
  },
  {
   "cell_type": "markdown",
   "metadata": {},
   "source": [
    "Please use the tables 'posts' and 'users' from the database 'stackoverflow_'. 'posts' is partitioned by year and by month. For more details see \"Hive assignment. Intro and instructions\"."
   ]
  },
  {
   "cell_type": "code",
   "execution_count": 3,
   "metadata": {},
   "outputs": [
    {
     "name": "stdout",
     "output_type": "stream",
     "text": [
      "Overwriting query.hql\n"
     ]
    }
   ],
   "source": [
    "%%writefile query.hql\n",
    "\n",
    "USE stackoverflow_;\n",
    "\n",
    "SELECT\n",
    "    tag,\n",
    "    rank() OVER (ORDER BY count2016 DESC) as rank2016,\n",
    "    rank() OVER (ORDER BY count2009 DESC) as rank2009,\n",
    "    count2016,\n",
    "    count2009\n",
    "FROM(\n",
    "    SELECT\n",
    "        tag,\n",
    "        sum(if(year = '2009', 1, 0)) as count2009,\n",
    "        sum(if(year = '2016', 1, 0)) as count2016\n",
    "    FROM posts\n",
    "    LATERAL VIEW explode(tags) tag as tag\n",
    "    WHERE\n",
    "        year in ('2016', '2009')\n",
    "        AND post_type_id=1\n",
    "    GROUP BY tag\n",
    ") as tmp\n",
    "ORDER BY rank2016\n",
    "LIMIT 10;"
   ]
  },
  {
   "cell_type": "code",
   "execution_count": 4,
   "metadata": {},
   "outputs": [
    {
     "name": "stdout",
     "output_type": "stream",
     "text": [
      "\n",
      "Logging initialized using configuration in jar:file:/usr/local/apache-hive-1.1.0-bin/lib/hive-common-1.1.0.jar!/hive-log4j.properties\n",
      "OK\n",
      "Time taken: 0.411 seconds\n",
      "Query ID = jovyan_20190224034444_1e9d52d8-ad93-42b1-8f52-52537427e93f\n",
      "Total jobs = 4\n",
      "Launching Job 1 out of 4\n",
      "Number of reduce tasks not specified. Estimated from input data size: 1\n",
      "In order to change the average load for a reducer (in bytes):\n",
      "  set hive.exec.reducers.bytes.per.reducer=<number>\n",
      "In order to limit the maximum number of reducers:\n",
      "  set hive.exec.reducers.max=<number>\n",
      "In order to set a constant number of reducers:\n",
      "  set mapreduce.job.reduces=<number>\n",
      "Starting Job = job_1550976555207_0019, Tracking URL = http://e098e204d350:8088/proxy/application_1550976555207_0019/\n",
      "Kill Command = /opt/hadoop/bin/hadoop job  -kill job_1550976555207_0019\n",
      "Hadoop job information for Stage-1: number of mappers: 1; number of reducers: 1\n",
      "2019-02-24 03:44:38,633 Stage-1 map = 0%,  reduce = 0%\n",
      "2019-02-24 03:44:43,839 Stage-1 map = 100%,  reduce = 0%, Cumulative CPU 4.31 sec\n",
      "2019-02-24 03:44:48,003 Stage-1 map = 100%,  reduce = 100%, Cumulative CPU 7.22 sec\n",
      "MapReduce Total cumulative CPU time: 7 seconds 220 msec\n",
      "Ended Job = job_1550976555207_0019\n",
      "Launching Job 2 out of 4\n",
      "Number of reduce tasks not specified. Estimated from input data size: 1\n",
      "In order to change the average load for a reducer (in bytes):\n",
      "  set hive.exec.reducers.bytes.per.reducer=<number>\n",
      "In order to limit the maximum number of reducers:\n",
      "  set hive.exec.reducers.max=<number>\n",
      "In order to set a constant number of reducers:\n",
      "  set mapreduce.job.reduces=<number>\n",
      "Starting Job = job_1550976555207_0020, Tracking URL = http://e098e204d350:8088/proxy/application_1550976555207_0020/\n",
      "Kill Command = /opt/hadoop/bin/hadoop job  -kill job_1550976555207_0020\n",
      "Hadoop job information for Stage-2: number of mappers: 1; number of reducers: 1\n",
      "2019-02-24 03:44:58,747 Stage-2 map = 0%,  reduce = 0%\n",
      "2019-02-24 03:45:02,901 Stage-2 map = 100%,  reduce = 0%, Cumulative CPU 1.98 sec\n",
      "2019-02-24 03:45:08,072 Stage-2 map = 100%,  reduce = 100%, Cumulative CPU 5.49 sec\n",
      "MapReduce Total cumulative CPU time: 5 seconds 490 msec\n",
      "Ended Job = job_1550976555207_0020\n",
      "Launching Job 3 out of 4\n",
      "Number of reduce tasks not specified. Estimated from input data size: 1\n",
      "In order to change the average load for a reducer (in bytes):\n",
      "  set hive.exec.reducers.bytes.per.reducer=<number>\n",
      "In order to limit the maximum number of reducers:\n",
      "  set hive.exec.reducers.max=<number>\n",
      "In order to set a constant number of reducers:\n",
      "  set mapreduce.job.reduces=<number>\n",
      "Starting Job = job_1550976555207_0021, Tracking URL = http://e098e204d350:8088/proxy/application_1550976555207_0021/\n",
      "Kill Command = /opt/hadoop/bin/hadoop job  -kill job_1550976555207_0021\n",
      "Hadoop job information for Stage-3: number of mappers: 1; number of reducers: 1\n",
      "2019-02-24 03:45:18,758 Stage-3 map = 0%,  reduce = 0%\n",
      "2019-02-24 03:45:22,923 Stage-3 map = 100%,  reduce = 0%, Cumulative CPU 2.38 sec\n",
      "2019-02-24 03:45:28,112 Stage-3 map = 100%,  reduce = 100%, Cumulative CPU 5.82 sec\n",
      "MapReduce Total cumulative CPU time: 5 seconds 820 msec\n",
      "Ended Job = job_1550976555207_0021\n",
      "Launching Job 4 out of 4\n",
      "Number of reduce tasks determined at compile time: 1\n",
      "In order to change the average load for a reducer (in bytes):\n",
      "  set hive.exec.reducers.bytes.per.reducer=<number>\n",
      "In order to limit the maximum number of reducers:\n",
      "  set hive.exec.reducers.max=<number>\n",
      "In order to set a constant number of reducers:\n",
      "  set mapreduce.job.reduces=<number>\n",
      "Starting Job = job_1550976555207_0022, Tracking URL = http://e098e204d350:8088/proxy/application_1550976555207_0022/\n",
      "Kill Command = /opt/hadoop/bin/hadoop job  -kill job_1550976555207_0022\n",
      "Hadoop job information for Stage-4: number of mappers: 1; number of reducers: 1\n",
      "2019-02-24 03:45:38,575 Stage-4 map = 0%,  reduce = 0%\n",
      "2019-02-24 03:45:42,727 Stage-4 map = 100%,  reduce = 0%, Cumulative CPU 2.32 sec\n",
      "2019-02-24 03:45:47,903 Stage-4 map = 100%,  reduce = 100%, Cumulative CPU 4.68 sec\n",
      "MapReduce Total cumulative CPU time: 4 seconds 680 msec\n",
      "Ended Job = job_1550976555207_0022\n",
      "MapReduce Jobs Launched: \n",
      "Stage-Stage-1: Map: 1  Reduce: 1   Cumulative CPU: 7.22 sec   HDFS Read: 970658 HDFS Write: 316407 SUCCESS\n",
      "Stage-Stage-2: Map: 1  Reduce: 1   Cumulative CPU: 5.49 sec   HDFS Read: 322322 HDFS Write: 347254 SUCCESS\n",
      "Stage-Stage-3: Map: 1  Reduce: 1   Cumulative CPU: 5.82 sec   HDFS Read: 353619 HDFS Write: 378100 SUCCESS\n",
      "Stage-Stage-4: Map: 1  Reduce: 1   Cumulative CPU: 4.68 sec   HDFS Read: 383265 HDFS Write: 188 SUCCESS\n",
      "Total MapReduce CPU Time Spent: 23 seconds 210 msec\n",
      "OK\n",
      "javascript\t1\t5\t2771\t192\n",
      "java\t2\t2\t2033\t243\n",
      "android\t3\t52\t1809\t25\n",
      "php\t4\t3\t1673\t215\n",
      "python\t5\t11\t1585\t108\n",
      "c#\t6\t1\t1519\t423\n",
      "html\t7\t14\t1212\t84\n",
      "jquery\t8\t8\t1167\t141\n",
      "ios\t9\t186\t914\t7\n",
      "css\t10\t20\t801\t59\n",
      "Time taken: 76.776 seconds, Fetched: 10 row(s)\n"
     ]
    }
   ],
   "source": [
    "!hive -f query.hql"
   ]
  }
 ],
 "metadata": {
  "colab": {
   "collapsed_sections": [],
   "default_view": {},
   "name": "901_to_students.ipynb",
   "provenance": [],
   "toc_visible": true,
   "version": "0.3.2",
   "views": {}
  },
  "kernelspec": {
   "display_name": "Python 3",
   "language": "python",
   "name": "python3"
  },
  "language_info": {
   "codemirror_mode": {
    "name": "ipython",
    "version": 3
   },
   "file_extension": ".py",
   "mimetype": "text/x-python",
   "name": "python",
   "nbconvert_exporter": "python",
   "pygments_lexer": "ipython3",
   "version": "3.6.2"
  }
 },
 "nbformat": 4,
 "nbformat_minor": 1
}
